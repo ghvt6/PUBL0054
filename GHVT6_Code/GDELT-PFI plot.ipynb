{
 "cells": [
  {
   "cell_type": "markdown",
   "metadata": {},
   "source": [
    " Country-level time series plots for 'push factor' indices"
   ]
  },
  {
   "cell_type": "code",
   "execution_count": 2,
   "metadata": {},
   "outputs": [
    {
     "name": "stdout",
     "output_type": "stream",
     "text": [
      "Plots saved in the directory: GHVT6_Outputs/push_factor_plots\n"
     ]
    },
    {
     "data": {
      "text/plain": [
       "<Figure size 2000x1600 with 0 Axes>"
      ]
     },
     "metadata": {},
     "output_type": "display_data"
    },
    {
     "data": {
      "text/plain": [
       "<Figure size 2000x1600 with 0 Axes>"
      ]
     },
     "metadata": {},
     "output_type": "display_data"
    },
    {
     "data": {
      "text/plain": [
       "<Figure size 2000x1600 with 0 Axes>"
      ]
     },
     "metadata": {},
     "output_type": "display_data"
    },
    {
     "data": {
      "text/plain": [
       "<Figure size 2000x1600 with 0 Axes>"
      ]
     },
     "metadata": {},
     "output_type": "display_data"
    },
    {
     "data": {
      "text/plain": [
       "<Figure size 2000x1600 with 0 Axes>"
      ]
     },
     "metadata": {},
     "output_type": "display_data"
    },
    {
     "data": {
      "text/plain": [
       "<Figure size 2000x1600 with 0 Axes>"
      ]
     },
     "metadata": {},
     "output_type": "display_data"
    }
   ],
   "source": [
    "import os\n",
    "import pandas as pd\n",
    "import matplotlib.pyplot as plt\n",
    "import seaborn as sns\n",
    "\n",
    "# The data is loaded from a CSV file and preprocessed by converting the 'year_month' column to datetime format.\n",
    "# The data is then sorted by 'country' and 'year_month' to ensure proper chronological order.\n",
    "data = pd.read_csv(\"final_thesis_data.csv\")\n",
    "data['year_month'] = pd.to_datetime(data['year_month'])\n",
    "data = data.sort_values(by=['country', 'year_month'])\n",
    "\n",
    "# The data is aggregated by 'country', 'year_month', 'sex', and 'age_group'.\n",
    "# This aggregation is performed to sum up all relevant metrics within these groups.\n",
    "data_agg = data.groupby(['country', 'year_month', 'sex', 'age_group']).sum().reset_index()\n",
    "\n",
    "# The font for all plots is globally set to Times New Roman to ensure consistency across visualisations.\n",
    "plt.rcParams['font.family'] = 'Times New Roman'\n",
    "\n",
    "# Duplicate rows are dropped to ensure no aggregation is mistakenly done on 'sex' and 'age_group'.\n",
    "# This step isolates the data at the country and time level, removing unnecessary duplications.\n",
    "data_no_agg = data_agg.drop_duplicates(subset=['country', 'year_month', 'push_factor_index'])\n",
    "\n",
    "# A directory is created to save the generated plots, ensuring the output path exists.\n",
    "output_dir = 'GHVT6_Outputs/GDELT PFI Plots'\n",
    "os.makedirs(output_dir, exist_ok=True)\n",
    "\n",
    "# A list of variables is defined, each of which will be plotted separately.\n",
    "variables = ['push_factor_index', 'Conflict', 'Governance', 'Social', 'Economic', 'Political']\n",
    "\n",
    "# The code loops through each variable to create and save the corresponding plot.\n",
    "for var in variables:\n",
    "    # A large figure is created to accommodate multiple subplots in a grid.\n",
    "    fig = plt.figure(figsize=(20, 16))\n",
    "    \n",
    "    # A FacetGrid is used to plot each country in a separate panel, allowing for comparison across countries.\n",
    "    g = sns.FacetGrid(data_no_agg, col=\"country\", col_wrap=4, height=3.5, aspect=1.5, sharey=False, sharex=True)\n",
    "    \n",
    "    # The lineplot is mapped to each facet, plotting the selected variable over time.\n",
    "    g.map(sns.lineplot, 'year_month', var)\n",
    "    \n",
    "    # The axis labels and titles are adjusted for clarity, converting underscores to spaces and capitalising words.\n",
    "    g.set_axis_labels('Year', var.replace('_', ' ').title())\n",
    "    g.set_titles('{col_name}')\n",
    "    \n",
    "    # The x-axis labels are rotated to 45 degrees for better readability, with alignment adjusted for aesthetics.\n",
    "    for ax in g.axes.flat:\n",
    "        ax.tick_params(axis='x', rotation=45)\n",
    "        for label in ax.get_xticklabels():\n",
    "            label.set_horizontalalignment('right')\n",
    "    \n",
    "    # A main title is set for the entire grid of plots to provide context for the visualisation.\n",
    "    plt.subplots_adjust(top=0.9)\n",
    "    g.fig.suptitle(f'{var.replace(\"_\", \" \").title()} Event Trends Over Time by Country', fontsize=16)\n",
    "    \n",
    "    # A source annotation is added at the bottom of the plot, acknowledging the data source.\n",
    "    plt.figtext(0.5, 0.01, 'Source: GDELT (2024)', ha='center', fontsize=12, style='italic')\n",
    "    \n",
    "    # The layout is adjusted to ensure there is sufficient spacing around the plots and titles.\n",
    "    plt.tight_layout(rect=[0, 0.03, 1, 0.95])\n",
    "    \n",
    "    # The plot is saved as a PNG file in the specified output directory, with the filename reflecting the variable plotted.\n",
    "    output_path = os.path.join(output_dir, f'{var}_trends.png')\n",
    "    plt.savefig(output_path, dpi=300, bbox_inches='tight')\n",
    "    \n",
    "    # The plot is closed to free up memory, especially useful when generating multiple plots in a loop.\n",
    "    plt.close()\n",
    "\n",
    "# A confirmation message is printed, indicating that all plots have been saved in the specified directory.\n",
    "print(f'Plots saved in the directory: {output_dir}')\n"
   ]
  }
 ],
 "metadata": {
  "kernelspec": {
   "display_name": "Python 3",
   "language": "python",
   "name": "python3"
  },
  "language_info": {
   "codemirror_mode": {
    "name": "ipython",
    "version": 3
   },
   "file_extension": ".py",
   "mimetype": "text/x-python",
   "name": "python",
   "nbconvert_exporter": "python",
   "pygments_lexer": "ipython3",
   "version": "3.12.1"
  }
 },
 "nbformat": 4,
 "nbformat_minor": 2
}
